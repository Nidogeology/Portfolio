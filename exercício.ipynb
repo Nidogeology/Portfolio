{
  "nbformat": 4,
  "nbformat_minor": 0,
  "metadata": {
    "kernelspec": {
      "display_name": "Python 3",
      "language": "python",
      "name": "python3"
    },
    "language_info": {
      "codemirror_mode": {
        "name": "ipython",
        "version": 3
      },
      "file_extension": ".py",
      "mimetype": "text/x-python",
      "name": "python",
      "nbconvert_exporter": "python",
      "pygments_lexer": "ipython3",
      "version": "3.7.1"
    },
    "colab": {
      "name": "exercício.ipynb",
      "provenance": [],
      "collapsed_sections": [],
      "toc_visible": true,
      "include_colab_link": true
    }
  },
  "cells": [
    {
      "cell_type": "markdown",
      "metadata": {
        "id": "view-in-github",
        "colab_type": "text"
      },
      "source": [
        "<a href=\"https://colab.research.google.com/github/Nidogeology/Portfolio/blob/master/exerc%C3%ADcio.ipynb\" target=\"_parent\"><img src=\"https://colab.research.google.com/assets/colab-badge.svg\" alt=\"Open In Colab\"/></a>"
      ]
    },
    {
      "cell_type": "markdown",
      "metadata": {
        "id": "GiHNHKqyKbDL"
      },
      "source": [
        "# Coleta de Dados em Arquivo JSON (Javascript Object Notation)"
      ]
    },
    {
      "cell_type": "code",
      "metadata": {
        "id": "hnzqakClKbDM"
      },
      "source": [
        "# -*- coding: utf-8 -*-"
      ],
      "execution_count": null,
      "outputs": []
    },
    {
      "cell_type": "markdown",
      "metadata": {
        "id": "Sc1yVSmiKbDO"
      },
      "source": [
        "### <font color=red>Lembre-se , SEMPRE é necessário instalar um pacote/biblioteca do Python antes de usá-lo</font>\n",
        "\n",
        "A instalação é realizada apenas na primeira vez, uma vez instalado, você pode atualizar (update) se necessário."
      ]
    },
    {
      "cell_type": "code",
      "metadata": {
        "id": "_c9BqZvaKbDO"
      },
      "source": [
        "import json\n",
        "import pandas as pd\n"
      ],
      "execution_count": null,
      "outputs": []
    },
    {
      "cell_type": "markdown",
      "metadata": {
        "id": "ghEI5b27KbDV"
      },
      "source": [
        "##### Leitura de arquivo"
      ]
    },
    {
      "cell_type": "code",
      "metadata": {
        "id": "Oge91_h5NxDX"
      },
      "source": [
        "df = pd.read_json('pessoas.json')"
      ],
      "execution_count": null,
      "outputs": []
    },
    {
      "cell_type": "code",
      "metadata": {
        "id": "68TRnxtZLBu7",
        "colab": {
          "base_uri": "https://localhost:8080/",
          "height": 1000
        },
        "outputId": "24754a9f-2831-43ae-9e3c-a3037b42e687"
      },
      "source": [
        "print(df)"
      ],
      "execution_count": null,
      "outputs": [
        {
          "output_type": "stream",
          "text": [
            "                   nome  idade   data_nasc  ... peso tipo_sanguineo       cor\n",
            "0       Silvana Hadassa    NaN  12/06/1964  ...   50             A+  vermelho\n",
            "1         Thales Kaique   27.0  10/12/1993  ...  110             B+   laranja\n",
            "2          Henry Nathan   29.0  21/09/1991  ...  106            AB-     verde\n",
            "3      Lorenzo Vinicius   64.0  22/10/1956  ...  100             O+  vermelho\n",
            "4         Cauã Henrique   50.0       09/03  ...   83             O-  vermelho\n",
            "5      Francisco Thomas   19.0  12/04/2001  ...   64            AB-     preto\n",
            "6         Bianca Flávia    NaN  23/01/1949  ...   76            AB+  vermelho\n",
            "7         Arthur Filipe    NaN  23/12/1987  ...   54            AB-      roxo\n",
            "8   Teresinha Jaqueline    NaN  20/10/1968  ...   59            AB-  vermelho\n",
            "9           Manuel Luís   50.0  12/05/1970  ...   85             A-      roxo\n",
            "10        Jorge Nicolas    NaN  11/07/1968  ...   54            AB-      roxo\n",
            "11        Ricardo Paulo   37.0  16/12/1983  ...   52             B+  vermelho\n",
            "12      Gustavo Joaquim   61.0  07/01/1959  ...  106             A+     verde\n",
            "13        Isabel Yasmin   50.0  22/06/1970  ...   53            AB+      azul\n",
            "14         Daniel Lucca   21.0       22/01  ...  105             A+     verde\n",
            "15    Benício Guilherme   37.0  09/02/1983  ...   95             O-   laranja\n",
            "16           João Pedro    NaN  08/05/2002  ...   57             B-     preto\n",
            "17        Sandra Milena   31.0  16/07/1989  ...   84            AB-     verde\n",
            "18       Antonio Sérgio   49.0       15/04  ...   71             O+      azul\n",
            "19        Arthur Sérgio   76.0  20/01/1944  ...   51            AB-     preto\n",
            "20       Larissa Esther   37.0  10/03/1983  ...   69            AB-     verde\n",
            "21         Thales Bento    NaN  18/04/1942  ...   64             A+  vermelho\n",
            "22         Breno Rafael   58.0  09/01/1962  ...  108             A+     preto\n",
            "23           Tiago Gael   24.0  17/07/1996  ...   58             A+      azul\n",
            "24      Carolina Márcia    NaN  25/11/1959  ...   45             B-     preto\n",
            "25          Levi Sérgio    NaN  21/08/1949  ...   68            AB-  vermelho\n",
            "26            Juan Theo   39.0  09/11/1981  ...   77             B-     verde\n",
            "27          Rafael Ryan   70.0       10/01  ...   85             O-   laranja\n",
            "28          Malu Emilly   70.0  04/07/1950  ...   48             B-  vermelho\n",
            "29        Alice Bárbara   78.0  09/10/1942  ...   80            AB+   laranja\n",
            "30         Martin Edson   35.0       15/01  ...   59             A-   laranja\n",
            "31         Danilo Jorge   38.0  25/08/1982  ...   87            AB+     preto\n",
            "32        Isadora Sueli    NaN  03/07/1999  ...   88            AB+     verde\n",
            "33         Maya Tatiane   27.0  27/12/1993  ...   89            AB-      roxo\n",
            "34         Bruno Manuel   57.0       14/09  ...   92             O+      azul\n",
            "35         Gabriel Luan   66.0  20/12/1954  ...   93            AB-  vermelho\n",
            "36          Henry Elias   57.0  26/04/1963  ...  103            AB+  vermelho\n",
            "37        Marcela Laura   56.0  17/11/1964  ...   79             A-     verde\n",
            "38          Amanda Luna   59.0  22/12/1961  ...   55             O-   amarelo\n",
            "39         Caio Ricardo    NaN  07/09/1973  ...   97             A-      roxo\n",
            "40      Mariane Sabrina   52.0  27/02/1968  ...   70             A+  vermelho\n",
            "41      Juliana Vanessa   37.0  27/04/1983  ...   67            AB-      roxo\n",
            "42     Milena Rosângela    NaN  11/02/1989  ...   88             B+      azul\n",
            "43      Osvaldo Augusto   41.0  15/04/1979  ...  107             A-     preto\n",
            "44          Nathan Igor   57.0  17/10/1963  ...   91             B+  vermelho\n",
            "45     Letícia Patrícia   76.0  07/11/1944  ...   64            AB-   laranja\n",
            "46        Sophia Andrea   35.0  23/07/1985  ...   47            AB+   laranja\n",
            "47         Aurora Lúcia   72.0  19/01/1948  ...   73             A-   amarelo\n",
            "48      Bruna Teresinha   42.0  25/04/1978  ...   77             A-     verde\n",
            "49         Erick Victor   52.0       08/10  ...  104             B-   laranja\n",
            "50     Gabrielly Stella   39.0  16/10/1981  ...   70             A-   amarelo\n",
            "51        Osvaldo Vitor   46.0  06/05/1974  ...   74             O-  vermelho\n",
            "52        Alana Kamilly   33.0  12/01/1987  ...   88             B+   amarelo\n",
            "53         Bryan Kaique   62.0  19/06/1958  ...  110             B-  vermelho\n",
            "54      Benedito Renato   33.0  08/10/1987  ...   81             B-   laranja\n",
            "55         Kaique Isaac    NaN  16/12/1971  ...  100             O+     preto\n",
            "56        Luiz Benjamin   52.0  03/07/1968  ...   77            AB-     verde\n",
            "57        Fábio Roberto   75.0       24/12  ...   56             A+   amarelo\n",
            "58         Evelyn Julia    NaN  18/01/1978  ...   51             B+  vermelho\n",
            "59       Otávio Cláudio    NaN  04/01/1988  ...   99            AB+      azul\n",
            "\n",
            "[60 rows x 11 columns]\n"
          ],
          "name": "stdout"
        }
      ]
    },
    {
      "cell_type": "code",
      "metadata": {
        "id": "HhxP_gDkOFN7",
        "colab": {
          "base_uri": "https://localhost:8080/",
          "height": 195
        },
        "outputId": "3c75ab07-dbd5-4537-921d-2a0abbcb7eac"
      },
      "source": [
        "df.head()"
      ],
      "execution_count": null,
      "outputs": [
        {
          "output_type": "execute_result",
          "data": {
            "text/html": [
              "<div>\n",
              "<style scoped>\n",
              "    .dataframe tbody tr th:only-of-type {\n",
              "        vertical-align: middle;\n",
              "    }\n",
              "\n",
              "    .dataframe tbody tr th {\n",
              "        vertical-align: top;\n",
              "    }\n",
              "\n",
              "    .dataframe thead th {\n",
              "        text-align: right;\n",
              "    }\n",
              "</style>\n",
              "<table border=\"1\" class=\"dataframe\">\n",
              "  <thead>\n",
              "    <tr style=\"text-align: right;\">\n",
              "      <th></th>\n",
              "      <th>nome</th>\n",
              "      <th>idade</th>\n",
              "      <th>data_nasc</th>\n",
              "      <th>sexo</th>\n",
              "      <th>signo</th>\n",
              "      <th>cidade</th>\n",
              "      <th>estado</th>\n",
              "      <th>altura</th>\n",
              "      <th>peso</th>\n",
              "      <th>tipo_sanguineo</th>\n",
              "      <th>cor</th>\n",
              "    </tr>\n",
              "  </thead>\n",
              "  <tbody>\n",
              "    <tr>\n",
              "      <th>0</th>\n",
              "      <td>Silvana Hadassa</td>\n",
              "      <td>NaN</td>\n",
              "      <td>12/06/1964</td>\n",
              "      <td>Feminino</td>\n",
              "      <td>Gêmeos</td>\n",
              "      <td>Brasília</td>\n",
              "      <td>DF</td>\n",
              "      <td>1,67</td>\n",
              "      <td>50</td>\n",
              "      <td>A+</td>\n",
              "      <td>vermelho</td>\n",
              "    </tr>\n",
              "    <tr>\n",
              "      <th>1</th>\n",
              "      <td>Thales Kaique</td>\n",
              "      <td>27.0</td>\n",
              "      <td>10/12/1993</td>\n",
              "      <td>Masculino</td>\n",
              "      <td>Sagitário</td>\n",
              "      <td>Campo Grande</td>\n",
              "      <td>MS</td>\n",
              "      <td>1,63</td>\n",
              "      <td>110</td>\n",
              "      <td>B+</td>\n",
              "      <td>laranja</td>\n",
              "    </tr>\n",
              "    <tr>\n",
              "      <th>2</th>\n",
              "      <td>Henry Nathan</td>\n",
              "      <td>29.0</td>\n",
              "      <td>21/09/1991</td>\n",
              "      <td>Masculino</td>\n",
              "      <td>Virgem</td>\n",
              "      <td>Macapá</td>\n",
              "      <td>AP</td>\n",
              "      <td>1,86</td>\n",
              "      <td>106</td>\n",
              "      <td>AB-</td>\n",
              "      <td>verde</td>\n",
              "    </tr>\n",
              "    <tr>\n",
              "      <th>3</th>\n",
              "      <td>Lorenzo Vinicius</td>\n",
              "      <td>64.0</td>\n",
              "      <td>22/10/1956</td>\n",
              "      <td>Masculino</td>\n",
              "      <td>Libra</td>\n",
              "      <td>Contagem</td>\n",
              "      <td>MG</td>\n",
              "      <td>1,87</td>\n",
              "      <td>100</td>\n",
              "      <td>O+</td>\n",
              "      <td>vermelho</td>\n",
              "    </tr>\n",
              "    <tr>\n",
              "      <th>4</th>\n",
              "      <td>Cauã Henrique</td>\n",
              "      <td>50.0</td>\n",
              "      <td>09/03</td>\n",
              "      <td>Masculino</td>\n",
              "      <td>Peixes</td>\n",
              "      <td>Rondonópolis</td>\n",
              "      <td>MT</td>\n",
              "      <td>1,74</td>\n",
              "      <td>83</td>\n",
              "      <td>O-</td>\n",
              "      <td>vermelho</td>\n",
              "    </tr>\n",
              "  </tbody>\n",
              "</table>\n",
              "</div>"
            ],
            "text/plain": [
              "               nome  idade   data_nasc  ... peso tipo_sanguineo       cor\n",
              "0   Silvana Hadassa    NaN  12/06/1964  ...   50             A+  vermelho\n",
              "1     Thales Kaique   27.0  10/12/1993  ...  110             B+   laranja\n",
              "2      Henry Nathan   29.0  21/09/1991  ...  106            AB-     verde\n",
              "3  Lorenzo Vinicius   64.0  22/10/1956  ...  100             O+  vermelho\n",
              "4     Cauã Henrique   50.0       09/03  ...   83             O-  vermelho\n",
              "\n",
              "[5 rows x 11 columns]"
            ]
          },
          "metadata": {
            "tags": []
          },
          "execution_count": 350
        }
      ]
    },
    {
      "cell_type": "markdown",
      "metadata": {
        "id": "-TxU6LFxQrJa"
      },
      "source": [
        "###Contando quantos nomes estão sem idade"
      ]
    },
    {
      "cell_type": "code",
      "metadata": {
        "id": "tu-P0c_GKbDY",
        "colab": {
          "base_uri": "https://localhost:8080/",
          "height": 319
        },
        "outputId": "13721a61-34be-4b77-cc2e-5affd444d0c3"
      },
      "source": [
        "# print(len(df[df['idade'].isnull()]))\n",
        "df.info()"
      ],
      "execution_count": null,
      "outputs": [
        {
          "output_type": "stream",
          "text": [
            "<class 'pandas.core.frame.DataFrame'>\n",
            "RangeIndex: 60 entries, 0 to 59\n",
            "Data columns (total 11 columns):\n",
            " #   Column          Non-Null Count  Dtype  \n",
            "---  ------          --------------  -----  \n",
            " 0   nome            60 non-null     object \n",
            " 1   idade           45 non-null     float64\n",
            " 2   data_nasc       60 non-null     object \n",
            " 3   sexo            60 non-null     object \n",
            " 4   signo           60 non-null     object \n",
            " 5   cidade          60 non-null     object \n",
            " 6   estado          60 non-null     object \n",
            " 7   altura          60 non-null     object \n",
            " 8   peso            60 non-null     int64  \n",
            " 9   tipo_sanguineo  60 non-null     object \n",
            " 10  cor             60 non-null     object \n",
            "dtypes: float64(1), int64(1), object(9)\n",
            "memory usage: 5.3+ KB\n"
          ],
          "name": "stdout"
        }
      ]
    },
    {
      "cell_type": "markdown",
      "metadata": {
        "id": "mOqJPkRJZHUh"
      },
      "source": [
        "###Contando quantos tem idade maior ou igual a 50 anos (sem contar os NaN)"
      ]
    },
    {
      "cell_type": "code",
      "metadata": {
        "id": "P-6eGoHRZGnN",
        "colab": {
          "base_uri": "https://localhost:8080/",
          "height": 34
        },
        "outputId": "0cf35481-d9bd-4c5d-f19e-39ea011580dd"
      },
      "source": [
        "print(len(df[df['idade']>=50]))"
      ],
      "execution_count": null,
      "outputs": [
        {
          "output_type": "stream",
          "text": [
            "23\n"
          ],
          "name": "stdout"
        }
      ]
    },
    {
      "cell_type": "markdown",
      "metadata": {
        "id": "N_f4nedXQ-kC"
      },
      "source": [
        "### Contando quantas pessoas não tem ano de nascimento"
      ]
    },
    {
      "cell_type": "code",
      "metadata": {
        "id": "hLySxd32sucO"
      },
      "source": [
        "df2 = df.drop(df[df['data_nasc'].apply(lambda x: len(x) <10 )].index)\n",
        "      "
      ],
      "execution_count": null,
      "outputs": []
    },
    {
      "cell_type": "code",
      "metadata": {
        "id": "NE10WTJ3-HOV"
      },
      "source": [
        "df7 = df.drop(df[df['data_nasc'].apply(lambda x: len(x) > 9 )].index)"
      ],
      "execution_count": null,
      "outputs": []
    },
    {
      "cell_type": "code",
      "metadata": {
        "id": "bSCbyTpb-Tva",
        "colab": {
          "base_uri": "https://localhost:8080/",
          "height": 319
        },
        "outputId": "2e324725-706e-49cf-b015-a918d0f2a312"
      },
      "source": [
        "df7.info()"
      ],
      "execution_count": null,
      "outputs": [
        {
          "output_type": "stream",
          "text": [
            "<class 'pandas.core.frame.DataFrame'>\n",
            "Int64Index: 8 entries, 4 to 57\n",
            "Data columns (total 11 columns):\n",
            " #   Column          Non-Null Count  Dtype  \n",
            "---  ------          --------------  -----  \n",
            " 0   nome            8 non-null      object \n",
            " 1   idade           8 non-null      float64\n",
            " 2   data_nasc       8 non-null      object \n",
            " 3   sexo            8 non-null      object \n",
            " 4   signo           8 non-null      object \n",
            " 5   cidade          8 non-null      object \n",
            " 6   estado          8 non-null      object \n",
            " 7   altura          8 non-null      object \n",
            " 8   peso            8 non-null      int64  \n",
            " 9   tipo_sanguineo  8 non-null      object \n",
            " 10  cor             8 non-null      object \n",
            "dtypes: float64(1), int64(1), object(9)\n",
            "memory usage: 768.0+ bytes\n"
          ],
          "name": "stdout"
        }
      ]
    },
    {
      "cell_type": "code",
      "metadata": {
        "id": "SXO3C2YCve_N",
        "colab": {
          "base_uri": "https://localhost:8080/",
          "height": 319
        },
        "outputId": "a408cfaf-dcd2-4939-b433-9a49d0773107"
      },
      "source": [
        "df2.info()"
      ],
      "execution_count": null,
      "outputs": [
        {
          "output_type": "stream",
          "text": [
            "<class 'pandas.core.frame.DataFrame'>\n",
            "Int64Index: 52 entries, 0 to 59\n",
            "Data columns (total 11 columns):\n",
            " #   Column          Non-Null Count  Dtype  \n",
            "---  ------          --------------  -----  \n",
            " 0   nome            52 non-null     object \n",
            " 1   idade           37 non-null     float64\n",
            " 2   data_nasc       52 non-null     object \n",
            " 3   sexo            52 non-null     object \n",
            " 4   signo           52 non-null     object \n",
            " 5   cidade          52 non-null     object \n",
            " 6   estado          52 non-null     object \n",
            " 7   altura          52 non-null     object \n",
            " 8   peso            52 non-null     int64  \n",
            " 9   tipo_sanguineo  52 non-null     object \n",
            " 10  cor             52 non-null     object \n",
            "dtypes: float64(1), int64(1), object(9)\n",
            "memory usage: 4.9+ KB\n"
          ],
          "name": "stdout"
        }
      ]
    },
    {
      "cell_type": "code",
      "metadata": {
        "id": "atpAhCbVvohH"
      },
      "source": [
        "df2['data_nasc'] = pd.to_datetime(df2['data_nasc'], format='%d/%m/%Y')"
      ],
      "execution_count": null,
      "outputs": []
    },
    {
      "cell_type": "code",
      "metadata": {
        "id": "TVUZwZ__v0Uh",
        "colab": {
          "base_uri": "https://localhost:8080/",
          "height": 1000
        },
        "outputId": "01c81676-6361-4304-9287-ca532453086c"
      },
      "source": [
        "print(df2['data_nasc'])\n",
        "df2.info()"
      ],
      "execution_count": null,
      "outputs": [
        {
          "output_type": "stream",
          "text": [
            "0    1964-06-12\n",
            "1    1993-12-10\n",
            "2    1991-09-21\n",
            "3    1956-10-22\n",
            "5    2001-04-12\n",
            "6    1949-01-23\n",
            "7    1987-12-23\n",
            "8    1968-10-20\n",
            "9    1970-05-12\n",
            "10   1968-07-11\n",
            "11   1983-12-16\n",
            "12   1959-01-07\n",
            "13   1970-06-22\n",
            "15   1983-02-09\n",
            "16   2002-05-08\n",
            "17   1989-07-16\n",
            "19   1944-01-20\n",
            "20   1983-03-10\n",
            "21   1942-04-18\n",
            "22   1962-01-09\n",
            "23   1996-07-17\n",
            "24   1959-11-25\n",
            "25   1949-08-21\n",
            "26   1981-11-09\n",
            "28   1950-07-04\n",
            "29   1942-10-09\n",
            "31   1982-08-25\n",
            "32   1999-07-03\n",
            "33   1993-12-27\n",
            "35   1954-12-20\n",
            "36   1963-04-26\n",
            "37   1964-11-17\n",
            "38   1961-12-22\n",
            "39   1973-09-07\n",
            "40   1968-02-27\n",
            "41   1983-04-27\n",
            "42   1989-02-11\n",
            "43   1979-04-15\n",
            "44   1963-10-17\n",
            "45   1944-11-07\n",
            "46   1985-07-23\n",
            "47   1948-01-19\n",
            "48   1978-04-25\n",
            "50   1981-10-16\n",
            "51   1974-05-06\n",
            "52   1987-01-12\n",
            "53   1958-06-19\n",
            "54   1987-10-08\n",
            "55   1971-12-16\n",
            "56   1968-07-03\n",
            "58   1978-01-18\n",
            "59   1988-01-04\n",
            "Name: data_nasc, dtype: datetime64[ns]\n",
            "<class 'pandas.core.frame.DataFrame'>\n",
            "Int64Index: 52 entries, 0 to 59\n",
            "Data columns (total 11 columns):\n",
            " #   Column          Non-Null Count  Dtype         \n",
            "---  ------          --------------  -----         \n",
            " 0   nome            52 non-null     object        \n",
            " 1   idade           37 non-null     float64       \n",
            " 2   data_nasc       52 non-null     datetime64[ns]\n",
            " 3   sexo            52 non-null     object        \n",
            " 4   signo           52 non-null     object        \n",
            " 5   cidade          52 non-null     object        \n",
            " 6   estado          52 non-null     object        \n",
            " 7   altura          52 non-null     object        \n",
            " 8   peso            52 non-null     int64         \n",
            " 9   tipo_sanguineo  52 non-null     object        \n",
            " 10  cor             52 non-null     object        \n",
            "dtypes: datetime64[ns](1), float64(1), int64(1), object(8)\n",
            "memory usage: 4.9+ KB\n"
          ],
          "name": "stdout"
        }
      ]
    },
    {
      "cell_type": "code",
      "metadata": {
        "id": "kQ7jPUcCv8WZ"
      },
      "source": [
        "from datetime import date\n",
        "import numpy as np"
      ],
      "execution_count": null,
      "outputs": []
    },
    {
      "cell_type": "code",
      "metadata": {
        "id": "AJw-KhwrwRVJ"
      },
      "source": [
        "now = date.today()\n",
        "df2['now'] = pd.to_datetime(now)\n",
        "df2['calculada'] = (df2['now'] - df2['data_nasc']).astype('<m8[Y]')"
      ],
      "execution_count": null,
      "outputs": []
    },
    {
      "cell_type": "code",
      "metadata": {
        "id": "Po6K4rdjxfJC",
        "colab": {
          "base_uri": "https://localhost:8080/",
          "height": 907
        },
        "outputId": "6be914f4-f028-42a1-9df0-849f5597c3ec"
      },
      "source": [
        "print(df2['calculada'])"
      ],
      "execution_count": null,
      "outputs": [
        {
          "output_type": "stream",
          "text": [
            "0     56.0\n",
            "1     26.0\n",
            "2     29.0\n",
            "3     63.0\n",
            "5     19.0\n",
            "6     71.0\n",
            "7     32.0\n",
            "8     51.0\n",
            "9     50.0\n",
            "10    52.0\n",
            "11    36.0\n",
            "12    61.0\n",
            "13    50.0\n",
            "15    37.0\n",
            "16    18.0\n",
            "17    31.0\n",
            "19    76.0\n",
            "20    37.0\n",
            "21    78.0\n",
            "22    58.0\n",
            "23    24.0\n",
            "24    60.0\n",
            "25    71.0\n",
            "26    38.0\n",
            "28    70.0\n",
            "29    78.0\n",
            "31    38.0\n",
            "32    21.0\n",
            "33    26.0\n",
            "35    65.0\n",
            "36    57.0\n",
            "37    55.0\n",
            "38    58.0\n",
            "39    47.0\n",
            "40    52.0\n",
            "41    37.0\n",
            "42    31.0\n",
            "43    41.0\n",
            "44    56.0\n",
            "45    75.0\n",
            "46    35.0\n",
            "47    72.0\n",
            "48    42.0\n",
            "50    38.0\n",
            "51    46.0\n",
            "52    33.0\n",
            "53    62.0\n",
            "54    33.0\n",
            "55    48.0\n",
            "56    52.0\n",
            "58    42.0\n",
            "59    32.0\n",
            "Name: calculada, dtype: float64\n"
          ],
          "name": "stdout"
        }
      ]
    },
    {
      "cell_type": "code",
      "metadata": {
        "id": "yDsQEyqVx2EF"
      },
      "source": [
        "df2['idade'] = df2['calculada']\n"
      ],
      "execution_count": null,
      "outputs": []
    },
    {
      "cell_type": "code",
      "metadata": {
        "id": "d58gsSyZy16E",
        "colab": {
          "base_uri": "https://localhost:8080/",
          "height": 195
        },
        "outputId": "f10fba2e-1f69-4c35-ab27-73e4ba11a46f"
      },
      "source": [
        "df2.head()"
      ],
      "execution_count": null,
      "outputs": [
        {
          "output_type": "execute_result",
          "data": {
            "text/html": [
              "<div>\n",
              "<style scoped>\n",
              "    .dataframe tbody tr th:only-of-type {\n",
              "        vertical-align: middle;\n",
              "    }\n",
              "\n",
              "    .dataframe tbody tr th {\n",
              "        vertical-align: top;\n",
              "    }\n",
              "\n",
              "    .dataframe thead th {\n",
              "        text-align: right;\n",
              "    }\n",
              "</style>\n",
              "<table border=\"1\" class=\"dataframe\">\n",
              "  <thead>\n",
              "    <tr style=\"text-align: right;\">\n",
              "      <th></th>\n",
              "      <th>nome</th>\n",
              "      <th>idade</th>\n",
              "      <th>data_nasc</th>\n",
              "      <th>sexo</th>\n",
              "      <th>signo</th>\n",
              "      <th>cidade</th>\n",
              "      <th>estado</th>\n",
              "      <th>altura</th>\n",
              "      <th>peso</th>\n",
              "      <th>tipo_sanguineo</th>\n",
              "      <th>cor</th>\n",
              "      <th>now</th>\n",
              "      <th>calculada</th>\n",
              "    </tr>\n",
              "  </thead>\n",
              "  <tbody>\n",
              "    <tr>\n",
              "      <th>0</th>\n",
              "      <td>Silvana Hadassa</td>\n",
              "      <td>56.0</td>\n",
              "      <td>1964-06-12</td>\n",
              "      <td>Feminino</td>\n",
              "      <td>Gêmeos</td>\n",
              "      <td>Brasília</td>\n",
              "      <td>DF</td>\n",
              "      <td>1,67</td>\n",
              "      <td>50</td>\n",
              "      <td>A+</td>\n",
              "      <td>vermelho</td>\n",
              "      <td>2020-10-14</td>\n",
              "      <td>56.0</td>\n",
              "    </tr>\n",
              "    <tr>\n",
              "      <th>1</th>\n",
              "      <td>Thales Kaique</td>\n",
              "      <td>26.0</td>\n",
              "      <td>1993-12-10</td>\n",
              "      <td>Masculino</td>\n",
              "      <td>Sagitário</td>\n",
              "      <td>Campo Grande</td>\n",
              "      <td>MS</td>\n",
              "      <td>1,63</td>\n",
              "      <td>110</td>\n",
              "      <td>B+</td>\n",
              "      <td>laranja</td>\n",
              "      <td>2020-10-14</td>\n",
              "      <td>26.0</td>\n",
              "    </tr>\n",
              "    <tr>\n",
              "      <th>2</th>\n",
              "      <td>Henry Nathan</td>\n",
              "      <td>29.0</td>\n",
              "      <td>1991-09-21</td>\n",
              "      <td>Masculino</td>\n",
              "      <td>Virgem</td>\n",
              "      <td>Macapá</td>\n",
              "      <td>AP</td>\n",
              "      <td>1,86</td>\n",
              "      <td>106</td>\n",
              "      <td>AB-</td>\n",
              "      <td>verde</td>\n",
              "      <td>2020-10-14</td>\n",
              "      <td>29.0</td>\n",
              "    </tr>\n",
              "    <tr>\n",
              "      <th>3</th>\n",
              "      <td>Lorenzo Vinicius</td>\n",
              "      <td>63.0</td>\n",
              "      <td>1956-10-22</td>\n",
              "      <td>Masculino</td>\n",
              "      <td>Libra</td>\n",
              "      <td>Contagem</td>\n",
              "      <td>MG</td>\n",
              "      <td>1,87</td>\n",
              "      <td>100</td>\n",
              "      <td>O+</td>\n",
              "      <td>vermelho</td>\n",
              "      <td>2020-10-14</td>\n",
              "      <td>63.0</td>\n",
              "    </tr>\n",
              "    <tr>\n",
              "      <th>5</th>\n",
              "      <td>Francisco Thomas</td>\n",
              "      <td>19.0</td>\n",
              "      <td>2001-04-12</td>\n",
              "      <td>Masculino</td>\n",
              "      <td>Áries</td>\n",
              "      <td>Olinda</td>\n",
              "      <td>PE</td>\n",
              "      <td>1,91</td>\n",
              "      <td>64</td>\n",
              "      <td>AB-</td>\n",
              "      <td>preto</td>\n",
              "      <td>2020-10-14</td>\n",
              "      <td>19.0</td>\n",
              "    </tr>\n",
              "  </tbody>\n",
              "</table>\n",
              "</div>"
            ],
            "text/plain": [
              "               nome  idade  data_nasc  ...       cor        now calculada\n",
              "0   Silvana Hadassa   56.0 1964-06-12  ...  vermelho 2020-10-14      56.0\n",
              "1     Thales Kaique   26.0 1993-12-10  ...   laranja 2020-10-14      26.0\n",
              "2      Henry Nathan   29.0 1991-09-21  ...     verde 2020-10-14      29.0\n",
              "3  Lorenzo Vinicius   63.0 1956-10-22  ...  vermelho 2020-10-14      63.0\n",
              "5  Francisco Thomas   19.0 2001-04-12  ...     preto 2020-10-14      19.0\n",
              "\n",
              "[5 rows x 13 columns]"
            ]
          },
          "metadata": {
            "tags": []
          },
          "execution_count": 361
        }
      ]
    },
    {
      "cell_type": "code",
      "metadata": {
        "id": "vFfsga_9yBxT",
        "colab": {
          "base_uri": "https://localhost:8080/",
          "height": 195
        },
        "outputId": "3854ddd3-ab90-4a75-fa3a-a63194ceea3c"
      },
      "source": [
        "df3 = df2.drop(['now', 'calculada'], axis=1)\n",
        "df3.head()"
      ],
      "execution_count": null,
      "outputs": [
        {
          "output_type": "execute_result",
          "data": {
            "text/html": [
              "<div>\n",
              "<style scoped>\n",
              "    .dataframe tbody tr th:only-of-type {\n",
              "        vertical-align: middle;\n",
              "    }\n",
              "\n",
              "    .dataframe tbody tr th {\n",
              "        vertical-align: top;\n",
              "    }\n",
              "\n",
              "    .dataframe thead th {\n",
              "        text-align: right;\n",
              "    }\n",
              "</style>\n",
              "<table border=\"1\" class=\"dataframe\">\n",
              "  <thead>\n",
              "    <tr style=\"text-align: right;\">\n",
              "      <th></th>\n",
              "      <th>nome</th>\n",
              "      <th>idade</th>\n",
              "      <th>data_nasc</th>\n",
              "      <th>sexo</th>\n",
              "      <th>signo</th>\n",
              "      <th>cidade</th>\n",
              "      <th>estado</th>\n",
              "      <th>altura</th>\n",
              "      <th>peso</th>\n",
              "      <th>tipo_sanguineo</th>\n",
              "      <th>cor</th>\n",
              "    </tr>\n",
              "  </thead>\n",
              "  <tbody>\n",
              "    <tr>\n",
              "      <th>0</th>\n",
              "      <td>Silvana Hadassa</td>\n",
              "      <td>56.0</td>\n",
              "      <td>1964-06-12</td>\n",
              "      <td>Feminino</td>\n",
              "      <td>Gêmeos</td>\n",
              "      <td>Brasília</td>\n",
              "      <td>DF</td>\n",
              "      <td>1,67</td>\n",
              "      <td>50</td>\n",
              "      <td>A+</td>\n",
              "      <td>vermelho</td>\n",
              "    </tr>\n",
              "    <tr>\n",
              "      <th>1</th>\n",
              "      <td>Thales Kaique</td>\n",
              "      <td>26.0</td>\n",
              "      <td>1993-12-10</td>\n",
              "      <td>Masculino</td>\n",
              "      <td>Sagitário</td>\n",
              "      <td>Campo Grande</td>\n",
              "      <td>MS</td>\n",
              "      <td>1,63</td>\n",
              "      <td>110</td>\n",
              "      <td>B+</td>\n",
              "      <td>laranja</td>\n",
              "    </tr>\n",
              "    <tr>\n",
              "      <th>2</th>\n",
              "      <td>Henry Nathan</td>\n",
              "      <td>29.0</td>\n",
              "      <td>1991-09-21</td>\n",
              "      <td>Masculino</td>\n",
              "      <td>Virgem</td>\n",
              "      <td>Macapá</td>\n",
              "      <td>AP</td>\n",
              "      <td>1,86</td>\n",
              "      <td>106</td>\n",
              "      <td>AB-</td>\n",
              "      <td>verde</td>\n",
              "    </tr>\n",
              "    <tr>\n",
              "      <th>3</th>\n",
              "      <td>Lorenzo Vinicius</td>\n",
              "      <td>63.0</td>\n",
              "      <td>1956-10-22</td>\n",
              "      <td>Masculino</td>\n",
              "      <td>Libra</td>\n",
              "      <td>Contagem</td>\n",
              "      <td>MG</td>\n",
              "      <td>1,87</td>\n",
              "      <td>100</td>\n",
              "      <td>O+</td>\n",
              "      <td>vermelho</td>\n",
              "    </tr>\n",
              "    <tr>\n",
              "      <th>5</th>\n",
              "      <td>Francisco Thomas</td>\n",
              "      <td>19.0</td>\n",
              "      <td>2001-04-12</td>\n",
              "      <td>Masculino</td>\n",
              "      <td>Áries</td>\n",
              "      <td>Olinda</td>\n",
              "      <td>PE</td>\n",
              "      <td>1,91</td>\n",
              "      <td>64</td>\n",
              "      <td>AB-</td>\n",
              "      <td>preto</td>\n",
              "    </tr>\n",
              "  </tbody>\n",
              "</table>\n",
              "</div>"
            ],
            "text/plain": [
              "               nome  idade  data_nasc  ... peso tipo_sanguineo       cor\n",
              "0   Silvana Hadassa   56.0 1964-06-12  ...   50             A+  vermelho\n",
              "1     Thales Kaique   26.0 1993-12-10  ...  110             B+   laranja\n",
              "2      Henry Nathan   29.0 1991-09-21  ...  106            AB-     verde\n",
              "3  Lorenzo Vinicius   63.0 1956-10-22  ...  100             O+  vermelho\n",
              "5  Francisco Thomas   19.0 2001-04-12  ...   64            AB-     preto\n",
              "\n",
              "[5 rows x 11 columns]"
            ]
          },
          "metadata": {
            "tags": []
          },
          "execution_count": 363
        }
      ]
    },
    {
      "cell_type": "code",
      "metadata": {
        "id": "kKSehMcj9nM_",
        "colab": {
          "base_uri": "https://localhost:8080/",
          "height": 168
        },
        "outputId": "159241e8-0b79-47b9-ed6b-01bba8111f84"
      },
      "source": [
        "df7['data_nasc'] = pd.to_datetime(df7['data_nasc'], format='%d/%m')\n",
        "df7['data_nasc']"
      ],
      "execution_count": null,
      "outputs": [
        {
          "output_type": "execute_result",
          "data": {
            "text/plain": [
              "4    1900-03-09\n",
              "14   1900-01-22\n",
              "18   1900-04-15\n",
              "27   1900-01-10\n",
              "30   1900-01-15\n",
              "34   1900-09-14\n",
              "49   1900-10-08\n",
              "57   1900-12-24\n",
              "Name: data_nasc, dtype: datetime64[ns]"
            ]
          },
          "metadata": {
            "tags": []
          },
          "execution_count": 384
        }
      ]
    },
    {
      "cell_type": "code",
      "metadata": {
        "id": "EsHxTr0C-rXy",
        "colab": {
          "base_uri": "https://localhost:8080/",
          "height": 168
        },
        "outputId": "ac579168-ea14-4ded-9918-b17aaae87625"
      },
      "source": [
        "today = pd.to_datetime(now)\n",
        "df7['calculada'] = today.year - df7['idade']\n",
        "df7['calculada']"
      ],
      "execution_count": null,
      "outputs": [
        {
          "output_type": "execute_result",
          "data": {
            "text/plain": [
              "4     1970.0\n",
              "14    1999.0\n",
              "18    1971.0\n",
              "27    1950.0\n",
              "30    1985.0\n",
              "34    1963.0\n",
              "49    1968.0\n",
              "57    1945.0\n",
              "Name: calculada, dtype: float64"
            ]
          },
          "metadata": {
            "tags": []
          },
          "execution_count": 390
        }
      ]
    },
    {
      "cell_type": "code",
      "metadata": {
        "id": "Q9hMSQWJ_zct"
      },
      "source": [
        "day = (df7['data_nasc'].dt.strftime('%d'))\n",
        "month = (df7['data_nasc'].dt.strftime('%m'))\n",
        "year = df7['calculada']\n",
        "\n",
        "df9 = pd.DataFrame({'DAY' : day, 'MONTH' : month,'YEAR': year})\n",
        "df9['data_nova'] = pd.to_datetime(df9[['DAY', 'MONTH', 'YEAR']])\n",
        "\n"
      ],
      "execution_count": null,
      "outputs": []
    },
    {
      "cell_type": "code",
      "metadata": {
        "id": "KrXpqQeMByxt",
        "colab": {
          "base_uri": "https://localhost:8080/",
          "height": 168
        },
        "outputId": "50a80c11-174a-4669-ac2d-09a5be651963"
      },
      "source": [
        "print(df9['data_nova'])"
      ],
      "execution_count": null,
      "outputs": [
        {
          "output_type": "stream",
          "text": [
            "4    1970-03-09\n",
            "14   1999-01-22\n",
            "18   1971-04-15\n",
            "27   1950-01-10\n",
            "30   1985-01-15\n",
            "34   1963-09-14\n",
            "49   1968-10-08\n",
            "57   1945-12-24\n",
            "Name: data_nova, dtype: datetime64[ns]\n"
          ],
          "name": "stdout"
        }
      ]
    },
    {
      "cell_type": "code",
      "metadata": {
        "id": "npI4x1sOE5zj",
        "colab": {
          "base_uri": "https://localhost:8080/",
          "height": 195
        },
        "outputId": "57726f85-4a14-4b25-8276-d49d62c8ed7d"
      },
      "source": [
        "df7['data_nasc'] = df9['data_nova']\n",
        "\n",
        "df8 = df7.drop(['calculada', 'now', 'day', 'month', 'dateInt'], axis=1)\n",
        "df8.head()"
      ],
      "execution_count": null,
      "outputs": [
        {
          "output_type": "execute_result",
          "data": {
            "text/html": [
              "<div>\n",
              "<style scoped>\n",
              "    .dataframe tbody tr th:only-of-type {\n",
              "        vertical-align: middle;\n",
              "    }\n",
              "\n",
              "    .dataframe tbody tr th {\n",
              "        vertical-align: top;\n",
              "    }\n",
              "\n",
              "    .dataframe thead th {\n",
              "        text-align: right;\n",
              "    }\n",
              "</style>\n",
              "<table border=\"1\" class=\"dataframe\">\n",
              "  <thead>\n",
              "    <tr style=\"text-align: right;\">\n",
              "      <th></th>\n",
              "      <th>nome</th>\n",
              "      <th>idade</th>\n",
              "      <th>data_nasc</th>\n",
              "      <th>sexo</th>\n",
              "      <th>signo</th>\n",
              "      <th>cidade</th>\n",
              "      <th>estado</th>\n",
              "      <th>altura</th>\n",
              "      <th>peso</th>\n",
              "      <th>tipo_sanguineo</th>\n",
              "      <th>cor</th>\n",
              "    </tr>\n",
              "  </thead>\n",
              "  <tbody>\n",
              "    <tr>\n",
              "      <th>4</th>\n",
              "      <td>Cauã Henrique</td>\n",
              "      <td>50.0</td>\n",
              "      <td>1970-03-09</td>\n",
              "      <td>Masculino</td>\n",
              "      <td>Peixes</td>\n",
              "      <td>Rondonópolis</td>\n",
              "      <td>MT</td>\n",
              "      <td>1,74</td>\n",
              "      <td>83</td>\n",
              "      <td>O-</td>\n",
              "      <td>vermelho</td>\n",
              "    </tr>\n",
              "    <tr>\n",
              "      <th>14</th>\n",
              "      <td>Daniel Lucca</td>\n",
              "      <td>21.0</td>\n",
              "      <td>1999-01-22</td>\n",
              "      <td>Masculino</td>\n",
              "      <td>Aquário</td>\n",
              "      <td>Planaltina</td>\n",
              "      <td>GO</td>\n",
              "      <td>1,84</td>\n",
              "      <td>105</td>\n",
              "      <td>A+</td>\n",
              "      <td>verde</td>\n",
              "    </tr>\n",
              "    <tr>\n",
              "      <th>18</th>\n",
              "      <td>Antonio Sérgio</td>\n",
              "      <td>49.0</td>\n",
              "      <td>1971-04-15</td>\n",
              "      <td>Masculino</td>\n",
              "      <td>Áries</td>\n",
              "      <td>Carpina</td>\n",
              "      <td>PE</td>\n",
              "      <td>1,65</td>\n",
              "      <td>71</td>\n",
              "      <td>O+</td>\n",
              "      <td>azul</td>\n",
              "    </tr>\n",
              "    <tr>\n",
              "      <th>27</th>\n",
              "      <td>Rafael Ryan</td>\n",
              "      <td>70.0</td>\n",
              "      <td>1950-01-10</td>\n",
              "      <td>Masculino</td>\n",
              "      <td>Capricórnio</td>\n",
              "      <td>Arapiraca</td>\n",
              "      <td>AL</td>\n",
              "      <td>1,98</td>\n",
              "      <td>85</td>\n",
              "      <td>O-</td>\n",
              "      <td>laranja</td>\n",
              "    </tr>\n",
              "    <tr>\n",
              "      <th>30</th>\n",
              "      <td>Martin Edson</td>\n",
              "      <td>35.0</td>\n",
              "      <td>1985-01-15</td>\n",
              "      <td>Masculino</td>\n",
              "      <td>Capricórnio</td>\n",
              "      <td>Aracaju</td>\n",
              "      <td>SE</td>\n",
              "      <td>1,60</td>\n",
              "      <td>59</td>\n",
              "      <td>A-</td>\n",
              "      <td>laranja</td>\n",
              "    </tr>\n",
              "  </tbody>\n",
              "</table>\n",
              "</div>"
            ],
            "text/plain": [
              "              nome  idade  data_nasc  ... peso tipo_sanguineo       cor\n",
              "4    Cauã Henrique   50.0 1970-03-09  ...   83             O-  vermelho\n",
              "14    Daniel Lucca   21.0 1999-01-22  ...  105             A+     verde\n",
              "18  Antonio Sérgio   49.0 1971-04-15  ...   71             O+      azul\n",
              "27     Rafael Ryan   70.0 1950-01-10  ...   85             O-   laranja\n",
              "30    Martin Edson   35.0 1985-01-15  ...   59             A-   laranja\n",
              "\n",
              "[5 rows x 11 columns]"
            ]
          },
          "metadata": {
            "tags": []
          },
          "execution_count": 434
        }
      ]
    },
    {
      "cell_type": "code",
      "metadata": {
        "id": "ZciTfBCTFhhM",
        "colab": {
          "base_uri": "https://localhost:8080/",
          "height": 319
        },
        "outputId": "488f1450-3ff1-4f4a-9e36-5b0b3a3fb06b"
      },
      "source": [
        "df10 = df8.append(df3)\n",
        "datinha = df10\n",
        "datinha.info()"
      ],
      "execution_count": null,
      "outputs": [
        {
          "output_type": "stream",
          "text": [
            "<class 'pandas.core.frame.DataFrame'>\n",
            "Int64Index: 60 entries, 4 to 59\n",
            "Data columns (total 11 columns):\n",
            " #   Column          Non-Null Count  Dtype         \n",
            "---  ------          --------------  -----         \n",
            " 0   nome            60 non-null     object        \n",
            " 1   idade           60 non-null     float64       \n",
            " 2   data_nasc       60 non-null     datetime64[ns]\n",
            " 3   sexo            60 non-null     object        \n",
            " 4   signo           60 non-null     object        \n",
            " 5   cidade          60 non-null     object        \n",
            " 6   estado          60 non-null     object        \n",
            " 7   altura          60 non-null     object        \n",
            " 8   peso            60 non-null     int64         \n",
            " 9   tipo_sanguineo  60 non-null     object        \n",
            " 10  cor             60 non-null     object        \n",
            "dtypes: datetime64[ns](1), float64(1), int64(1), object(8)\n",
            "memory usage: 5.6+ KB\n"
          ],
          "name": "stdout"
        }
      ]
    },
    {
      "cell_type": "code",
      "metadata": {
        "id": "tXGXt_OSF0Bo",
        "colab": {
          "base_uri": "https://localhost:8080/",
          "height": 34
        },
        "outputId": "d89d3bc3-4310-4afa-88a0-c6aa74c320d3"
      },
      "source": [
        "datinha['ano'] = pd.DatetimeIndex(datinha['data_nasc']).year\n",
        "# datinha['ano']\n",
        "\n",
        "len(datinha[datinha['ano'].apply(lambda x: 1968 <= x <= 1978)].index)"
      ],
      "execution_count": null,
      "outputs": [
        {
          "output_type": "execute_result",
          "data": {
            "text/plain": [
              "14"
            ]
          },
          "metadata": {
            "tags": []
          },
          "execution_count": 443
        }
      ]
    },
    {
      "cell_type": "code",
      "metadata": {
        "id": "JmymcEcGKJ59",
        "colab": {
          "base_uri": "https://localhost:8080/",
          "height": 84
        },
        "outputId": "bce8f4a8-94c2-4ed0-e9d3-e43e80f6589a"
      },
      "source": [
        "velha = datinha.loc[datinha['data_nasc'] == datinha.data_nasc.min(), 'nome']\n",
        "nova = datinha.loc[datinha['data_nasc'] == datinha.data_nasc.max(), 'nome']\n",
        "print(f'A pessoa mais velha é: {velha}')\n",
        "print(f'A pessoa mais nova é: {nova}')"
      ],
      "execution_count": null,
      "outputs": [
        {
          "output_type": "stream",
          "text": [
            "A pessoa mais velha é: 21    Thales Bento\n",
            "Name: nome, dtype: object\n",
            "A pessoa mais nova é: 16    João Pedro\n",
            "Name: nome, dtype: object\n"
          ],
          "name": "stdout"
        }
      ]
    },
    {
      "cell_type": "code",
      "metadata": {
        "id": "eNB9zVrEMVUR"
      },
      "source": [
        "data2 = pd.read_json('https://api-coleta-dados.herokuapp.com/api/pessoas')"
      ],
      "execution_count": null,
      "outputs": []
    },
    {
      "cell_type": "code",
      "metadata": {
        "id": "kW2fpgRyMaT8",
        "colab": {
          "base_uri": "https://localhost:8080/",
          "height": 195
        },
        "outputId": "ba7dc76c-23ca-4391-b7aa-e6e440445dab"
      },
      "source": [
        "data2.head()"
      ],
      "execution_count": null,
      "outputs": [
        {
          "output_type": "execute_result",
          "data": {
            "text/html": [
              "<div>\n",
              "<style scoped>\n",
              "    .dataframe tbody tr th:only-of-type {\n",
              "        vertical-align: middle;\n",
              "    }\n",
              "\n",
              "    .dataframe tbody tr th {\n",
              "        vertical-align: top;\n",
              "    }\n",
              "\n",
              "    .dataframe thead th {\n",
              "        text-align: right;\n",
              "    }\n",
              "</style>\n",
              "<table border=\"1\" class=\"dataframe\">\n",
              "  <thead>\n",
              "    <tr style=\"text-align: right;\">\n",
              "      <th></th>\n",
              "      <th>nome</th>\n",
              "      <th>idade</th>\n",
              "      <th>data_nasc</th>\n",
              "      <th>sexo</th>\n",
              "      <th>signo</th>\n",
              "      <th>cidade</th>\n",
              "      <th>estado</th>\n",
              "      <th>altura</th>\n",
              "      <th>peso</th>\n",
              "      <th>tipo_sanguineo</th>\n",
              "      <th>cor</th>\n",
              "    </tr>\n",
              "  </thead>\n",
              "  <tbody>\n",
              "    <tr>\n",
              "      <th>0</th>\n",
              "      <td>Silvana Hadassa</td>\n",
              "      <td>NaN</td>\n",
              "      <td>12/06/1964</td>\n",
              "      <td>Feminino</td>\n",
              "      <td>Gêmeos</td>\n",
              "      <td>Brasília</td>\n",
              "      <td>DF</td>\n",
              "      <td>1,67</td>\n",
              "      <td>50</td>\n",
              "      <td>A+</td>\n",
              "      <td>vermelho</td>\n",
              "    </tr>\n",
              "    <tr>\n",
              "      <th>1</th>\n",
              "      <td>Thales Kaique</td>\n",
              "      <td>27.0</td>\n",
              "      <td>10/12/1993</td>\n",
              "      <td>Masculino</td>\n",
              "      <td>Sagitário</td>\n",
              "      <td>Campo Grande</td>\n",
              "      <td>MS</td>\n",
              "      <td>1,63</td>\n",
              "      <td>110</td>\n",
              "      <td>B+</td>\n",
              "      <td>laranja</td>\n",
              "    </tr>\n",
              "    <tr>\n",
              "      <th>2</th>\n",
              "      <td>Henry Nathan</td>\n",
              "      <td>29.0</td>\n",
              "      <td>21/09/1991</td>\n",
              "      <td>Masculino</td>\n",
              "      <td>Virgem</td>\n",
              "      <td>Macapá</td>\n",
              "      <td>AP</td>\n",
              "      <td>1,86</td>\n",
              "      <td>106</td>\n",
              "      <td>AB-</td>\n",
              "      <td>verde</td>\n",
              "    </tr>\n",
              "    <tr>\n",
              "      <th>3</th>\n",
              "      <td>Lorenzo Vinicius</td>\n",
              "      <td>64.0</td>\n",
              "      <td>22/10/1956</td>\n",
              "      <td>Masculino</td>\n",
              "      <td>Libra</td>\n",
              "      <td>Contagem</td>\n",
              "      <td>MG</td>\n",
              "      <td>1,87</td>\n",
              "      <td>100</td>\n",
              "      <td>O+</td>\n",
              "      <td>vermelho</td>\n",
              "    </tr>\n",
              "    <tr>\n",
              "      <th>4</th>\n",
              "      <td>Cauã Henrique</td>\n",
              "      <td>50.0</td>\n",
              "      <td>09/03</td>\n",
              "      <td>Masculino</td>\n",
              "      <td>Peixes</td>\n",
              "      <td>Rondonópolis</td>\n",
              "      <td>MT</td>\n",
              "      <td>1,74</td>\n",
              "      <td>83</td>\n",
              "      <td>O-</td>\n",
              "      <td>vermelho</td>\n",
              "    </tr>\n",
              "  </tbody>\n",
              "</table>\n",
              "</div>"
            ],
            "text/plain": [
              "               nome  idade   data_nasc  ... peso tipo_sanguineo       cor\n",
              "0   Silvana Hadassa    NaN  12/06/1964  ...   50             A+  vermelho\n",
              "1     Thales Kaique   27.0  10/12/1993  ...  110             B+   laranja\n",
              "2      Henry Nathan   29.0  21/09/1991  ...  106            AB-     verde\n",
              "3  Lorenzo Vinicius   64.0  22/10/1956  ...  100             O+  vermelho\n",
              "4     Cauã Henrique   50.0       09/03  ...   83             O-  vermelho\n",
              "\n",
              "[5 rows x 11 columns]"
            ]
          },
          "metadata": {
            "tags": []
          },
          "execution_count": 4
        }
      ]
    }
  ]
}